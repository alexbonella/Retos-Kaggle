{
 "cells": [
  {
   "cell_type": "markdown",
   "metadata": {},
   "source": [
    "# Importamos librerias"
   ]
  },
  {
   "cell_type": "code",
   "execution_count": 1,
   "metadata": {},
   "outputs": [
    {
     "name": "stderr",
     "output_type": "stream",
     "text": [
      "Using TensorFlow backend.\n"
     ]
    }
   ],
   "source": [
    "import tensorflow as tf\n",
    "import pandas as pd\n",
    "import keras \n",
    "import numpy as np\n",
    "from sklearn.model_selection import train_test_split\n",
    "from keras.models import Sequential\n",
    "from keras.layers.core import Dense, Activation \n",
    "from keras.layers import Conv2D,MaxPooling2D,Flatten,Dropout,MaxPool2D\n",
    "from keras.utils import np_utils\n",
    "import matplotlib as mpl\n",
    "import matplotlib.pyplot as plt\n",
    "%matplotlib inline"
   ]
  },
  {
   "cell_type": "markdown",
   "metadata": {},
   "source": [
    "**NOTA :** Revisar los tipos de **`layers`** que maneja **`keras`** para redes convolucionales"
   ]
  },
  {
   "cell_type": "markdown",
   "metadata": {},
   "source": [
    "# Como usar `Keras` paso a paso :\n",
    "\n",
    "Antes de definir la estructura que deseamos que tenga nuestra red neuronal debemos tener en cuent los siguientes pasos :\n",
    "\n",
    "1. Creamos la instacia **`Secuential`**\n",
    "2. Definimos cada una de las capas con su respectivas funciones de activación \n",
    "3. Configuración del proceso de aprendizaje **`Compilación`** del modelo\n",
    "4. Entrenamiento de nuestro modelo\n",
    "5. Evaluación de nuestro modelo\n",
    "6. Predicción de nuestro modelo"
   ]
  },
  {
   "cell_type": "markdown",
   "metadata": {},
   "source": [
    "# Paso  1 : Instanciación"
   ]
  },
  {
   "cell_type": "code",
   "execution_count": 2,
   "metadata": {},
   "outputs": [],
   "source": [
    "model = Sequential()"
   ]
  },
  {
   "cell_type": "markdown",
   "metadata": {},
   "source": [
    "# Cargamos nuestro dataset"
   ]
  },
  {
   "cell_type": "code",
   "execution_count": 3,
   "metadata": {},
   "outputs": [],
   "source": [
    "train = pd.read_csv(\"train.csv\")\n",
    "test = pd.read_csv(\"test.csv\")"
   ]
  },
  {
   "cell_type": "code",
   "execution_count": 4,
   "metadata": {},
   "outputs": [],
   "source": [
    "X = train.drop(labels = [\"label\"],axis = 1) # Eliminamos la columna de etiquetas\n",
    "y = train[\"label\"]\n",
    "X=X.values\n",
    "y=y.values\n",
    "\n",
    "# División de nuestros datos :\n",
    "X_train, X_test, y_train, y_test = train_test_split(X, y, test_size=0.3, random_state=101)\n"
   ]
  },
  {
   "cell_type": "code",
   "execution_count": 5,
   "metadata": {},
   "outputs": [
    {
     "data": {
      "text/plain": [
       "29400"
      ]
     },
     "execution_count": 5,
     "metadata": {},
     "output_type": "execute_result"
    }
   ],
   "source": [
    "len(X_train)"
   ]
  },
  {
   "cell_type": "code",
   "execution_count": 6,
   "metadata": {},
   "outputs": [
    {
     "data": {
      "text/plain": [
       "(29400, 784)"
      ]
     },
     "execution_count": 6,
     "metadata": {},
     "output_type": "execute_result"
    }
   ],
   "source": [
    "X_train.shape"
   ]
  },
  {
   "cell_type": "code",
   "execution_count": 7,
   "metadata": {},
   "outputs": [
    {
     "data": {
      "text/plain": [
       "(784,)"
      ]
     },
     "execution_count": 7,
     "metadata": {},
     "output_type": "execute_result"
    }
   ],
   "source": [
    "X_train[2].shape"
   ]
  },
  {
   "cell_type": "code",
   "execution_count": 8,
   "metadata": {},
   "outputs": [],
   "source": [
    "# Transformacion de nuestra data antes de ingresarla a nuestra red\n",
    "\n",
    "X_train = X_train.reshape(X_train.shape[0], 28, 28, 1).astype('float32')\n",
    "X_test = X_test.reshape(X_test.shape[0], 28, 28, 1).astype('float32')"
   ]
  },
  {
   "cell_type": "code",
   "execution_count": null,
   "metadata": {},
   "outputs": [],
   "source": []
  },
  {
   "cell_type": "code",
   "execution_count": 9,
   "metadata": {},
   "outputs": [],
   "source": [
    "# Normalizamos variables dividiendola entre 255  para obtener valores entre 0 y 1\n",
    "X_train = X_train / 255\n",
    "X_test = X_test / 255"
   ]
  },
  {
   "cell_type": "code",
   "execution_count": 10,
   "metadata": {},
   "outputs": [],
   "source": [
    "# formato one-hot \n",
    "y_train = np_utils.to_categorical(y_train)  # Categorizamos nuestras etiquetas \n",
    "y_test = np_utils.to_categorical(y_test) # Categorizamos nuestras etiquetas\n",
    "num_classes = y_test.shape[1]"
   ]
  },
  {
   "cell_type": "markdown",
   "metadata": {},
   "source": [
    "# Paso 2 : Configuración de la red "
   ]
  },
  {
   "cell_type": "code",
   "execution_count": 11,
   "metadata": {},
   "outputs": [],
   "source": [
    "# Configuraciones iniciales de nuestra red"
   ]
  },
  {
   "cell_type": "code",
   "execution_count": 12,
   "metadata": {},
   "outputs": [],
   "source": [
    "model.add(Conv2D(32, (5, 5),strides=(1,1), input_shape=(28, 28, 1), activation='relu'))\n",
    "model.add(MaxPooling2D(pool_size=(2, 2),strides=2))\n",
    "model.add(Dropout(0.25))\n",
    "model.add(Conv2D(64, (5, 5),strides=(1,1), activation='relu'))\n",
    "model.add(MaxPooling2D(pool_size=(2, 2),strides=2))\n",
    "model.add(Conv2D(64, kernel_size = (3,3),strides=(1,1), activation ='relu'))\n",
    "model.add(MaxPooling2D(pool_size=(2, 2),strides=2))\n",
    "model.add(Dropout(0.2))\n",
    "model.add(Flatten())\n",
    "model.add(Dense(128, activation='relu'))\n",
    "model.add(Dense(num_classes, activation='softmax'))"
   ]
  },
  {
   "cell_type": "code",
   "execution_count": 13,
   "metadata": {},
   "outputs": [
    {
     "data": {
      "text/plain": [
       "[<keras.layers.convolutional.Conv2D at 0x7f8e0a843780>,\n",
       " <keras.layers.pooling.MaxPooling2D at 0x7f8e0a843a20>,\n",
       " <keras.layers.core.Dropout at 0x7f8e0a843748>,\n",
       " <keras.layers.convolutional.Conv2D at 0x7f8e0aae7a58>,\n",
       " <keras.layers.pooling.MaxPooling2D at 0x7f8e0ab185f8>,\n",
       " <keras.layers.convolutional.Conv2D at 0x7f8e0a843b38>,\n",
       " <keras.layers.pooling.MaxPooling2D at 0x7f8e0a767da0>,\n",
       " <keras.layers.core.Dropout at 0x7f8e0ab18940>,\n",
       " <keras.layers.core.Flatten at 0x7f8e0a78ff28>,\n",
       " <keras.layers.core.Dense at 0x7f8e0a767e48>,\n",
       " <keras.layers.core.Dense at 0x7f8e0a78f2b0>]"
      ]
     },
     "execution_count": 13,
     "metadata": {},
     "output_type": "execute_result"
    }
   ],
   "source": [
    "model.layers # Distribución de nuestras capas en keras"
   ]
  },
  {
   "cell_type": "code",
   "execution_count": 14,
   "metadata": {},
   "outputs": [
    {
     "name": "stdout",
     "output_type": "stream",
     "text": [
      "_________________________________________________________________\n",
      "Layer (type)                 Output Shape              Param #   \n",
      "=================================================================\n",
      "conv2d_1 (Conv2D)            (None, 24, 24, 32)        832       \n",
      "_________________________________________________________________\n",
      "max_pooling2d_1 (MaxPooling2 (None, 12, 12, 32)        0         \n",
      "_________________________________________________________________\n",
      "dropout_1 (Dropout)          (None, 12, 12, 32)        0         \n",
      "_________________________________________________________________\n",
      "conv2d_2 (Conv2D)            (None, 8, 8, 64)          51264     \n",
      "_________________________________________________________________\n",
      "max_pooling2d_2 (MaxPooling2 (None, 4, 4, 64)          0         \n",
      "_________________________________________________________________\n",
      "conv2d_3 (Conv2D)            (None, 2, 2, 64)          36928     \n",
      "_________________________________________________________________\n",
      "max_pooling2d_3 (MaxPooling2 (None, 1, 1, 64)          0         \n",
      "_________________________________________________________________\n",
      "dropout_2 (Dropout)          (None, 1, 1, 64)          0         \n",
      "_________________________________________________________________\n",
      "flatten_1 (Flatten)          (None, 64)                0         \n",
      "_________________________________________________________________\n",
      "dense_1 (Dense)              (None, 128)               8320      \n",
      "_________________________________________________________________\n",
      "dense_2 (Dense)              (None, 10)                1290      \n",
      "=================================================================\n",
      "Total params: 98,634\n",
      "Trainable params: 98,634\n",
      "Non-trainable params: 0\n",
      "_________________________________________________________________\n"
     ]
    }
   ],
   "source": [
    "model.summary() # Resumen de nuestros parametros "
   ]
  },
  {
   "cell_type": "markdown",
   "metadata": {},
   "source": [
    "# Paso 3 : Aprendizaje y compilación\n"
   ]
  },
  {
   "cell_type": "code",
   "execution_count": 15,
   "metadata": {},
   "outputs": [],
   "source": [
    "model.compile(loss='categorical_crossentropy', optimizer='Adam', metrics=['accuracy'])"
   ]
  },
  {
   "cell_type": "markdown",
   "metadata": {},
   "source": [
    "# Paso 4 : Entrenamiento de nuestro modelo"
   ]
  },
  {
   "cell_type": "code",
   "execution_count": 16,
   "metadata": {},
   "outputs": [
    {
     "name": "stdout",
     "output_type": "stream",
     "text": [
      "Train on 29400 samples, validate on 12600 samples\n",
      "Epoch 1/50\n",
      " - 38s - loss: 0.7029 - acc: 0.7707 - val_loss: 0.1657 - val_acc: 0.9523\n",
      "Epoch 2/50\n",
      " - 37s - loss: 0.1918 - acc: 0.9412 - val_loss: 0.0892 - val_acc: 0.9726\n",
      "Epoch 3/50\n",
      " - 37s - loss: 0.1364 - acc: 0.9582 - val_loss: 0.0729 - val_acc: 0.9786\n",
      "Epoch 4/50\n",
      " - 38s - loss: 0.1066 - acc: 0.9668 - val_loss: 0.0545 - val_acc: 0.9846\n",
      "Epoch 5/50\n",
      " - 37s - loss: 0.0876 - acc: 0.9726 - val_loss: 0.0458 - val_acc: 0.9856\n",
      "Epoch 6/50\n",
      " - 38s - loss: 0.0739 - acc: 0.9774 - val_loss: 0.0416 - val_acc: 0.9873\n",
      "Epoch 7/50\n",
      " - 37s - loss: 0.0640 - acc: 0.9803 - val_loss: 0.0399 - val_acc: 0.9889\n",
      "Epoch 8/50\n",
      " - 38s - loss: 0.0617 - acc: 0.9814 - val_loss: 0.0353 - val_acc: 0.9887\n",
      "Epoch 9/50\n",
      " - 37s - loss: 0.0524 - acc: 0.9838 - val_loss: 0.0344 - val_acc: 0.9893\n",
      "Epoch 10/50\n",
      " - 37s - loss: 0.0482 - acc: 0.9849 - val_loss: 0.0370 - val_acc: 0.9883\n",
      "Epoch 11/50\n",
      " - 37s - loss: 0.0439 - acc: 0.9863 - val_loss: 0.0309 - val_acc: 0.9909\n",
      "Epoch 12/50\n",
      " - 37s - loss: 0.0410 - acc: 0.9868 - val_loss: 0.0415 - val_acc: 0.9864\n",
      "Epoch 13/50\n",
      " - 38s - loss: 0.0397 - acc: 0.9873 - val_loss: 0.0338 - val_acc: 0.9906\n",
      "Epoch 14/50\n",
      " - 37s - loss: 0.0343 - acc: 0.9889 - val_loss: 0.0272 - val_acc: 0.9913\n",
      "Epoch 15/50\n",
      " - 37s - loss: 0.0332 - acc: 0.9892 - val_loss: 0.0284 - val_acc: 0.9910\n",
      "Epoch 16/50\n",
      " - 39s - loss: 0.0319 - acc: 0.9893 - val_loss: 0.0299 - val_acc: 0.9911\n",
      "Epoch 17/50\n",
      " - 37s - loss: 0.0292 - acc: 0.9910 - val_loss: 0.0255 - val_acc: 0.9914\n",
      "Epoch 18/50\n",
      " - 38s - loss: 0.0263 - acc: 0.9910 - val_loss: 0.0297 - val_acc: 0.9905\n",
      "Epoch 19/50\n",
      " - 37s - loss: 0.0248 - acc: 0.9923 - val_loss: 0.0291 - val_acc: 0.9914\n",
      "Epoch 20/50\n",
      " - 37s - loss: 0.0263 - acc: 0.9913 - val_loss: 0.0306 - val_acc: 0.9909\n",
      "Epoch 21/50\n",
      " - 37s - loss: 0.0216 - acc: 0.9932 - val_loss: 0.0322 - val_acc: 0.9904\n",
      "Epoch 22/50\n",
      " - 37s - loss: 0.0218 - acc: 0.9926 - val_loss: 0.0318 - val_acc: 0.9910\n",
      "Epoch 23/50\n",
      " - 37s - loss: 0.0208 - acc: 0.9935 - val_loss: 0.0297 - val_acc: 0.9912\n",
      "Epoch 24/50\n",
      " - 37s - loss: 0.0190 - acc: 0.9939 - val_loss: 0.0323 - val_acc: 0.9906\n",
      "Epoch 25/50\n",
      " - 37s - loss: 0.0204 - acc: 0.9934 - val_loss: 0.0310 - val_acc: 0.9913\n",
      "Epoch 26/50\n",
      " - 37s - loss: 0.0189 - acc: 0.9932 - val_loss: 0.0297 - val_acc: 0.9914\n",
      "Epoch 27/50\n",
      " - 37s - loss: 0.0199 - acc: 0.9934 - val_loss: 0.0326 - val_acc: 0.9899\n",
      "Epoch 28/50\n",
      " - 37s - loss: 0.0191 - acc: 0.9936 - val_loss: 0.0304 - val_acc: 0.9921\n",
      "Epoch 29/50\n",
      " - 37s - loss: 0.0174 - acc: 0.9938 - val_loss: 0.0273 - val_acc: 0.9917\n",
      "Epoch 30/50\n",
      " - 37s - loss: 0.0165 - acc: 0.9946 - val_loss: 0.0329 - val_acc: 0.9906\n",
      "Epoch 31/50\n",
      " - 37s - loss: 0.0158 - acc: 0.9949 - val_loss: 0.0281 - val_acc: 0.9916\n",
      "Epoch 32/50\n",
      " - 37s - loss: 0.0131 - acc: 0.9956 - val_loss: 0.0375 - val_acc: 0.9909\n",
      "Epoch 33/50\n",
      " - 38s - loss: 0.0150 - acc: 0.9954 - val_loss: 0.0346 - val_acc: 0.9908\n",
      "Epoch 34/50\n",
      " - 37s - loss: 0.0147 - acc: 0.9950 - val_loss: 0.0425 - val_acc: 0.9900\n",
      "Epoch 35/50\n",
      " - 37s - loss: 0.0137 - acc: 0.9957 - val_loss: 0.0387 - val_acc: 0.9909\n",
      "Epoch 36/50\n",
      " - 37s - loss: 0.0138 - acc: 0.9955 - val_loss: 0.0340 - val_acc: 0.9916\n",
      "Epoch 37/50\n",
      " - 37s - loss: 0.0144 - acc: 0.9954 - val_loss: 0.0326 - val_acc: 0.9913\n",
      "Epoch 38/50\n",
      " - 38s - loss: 0.0132 - acc: 0.9955 - val_loss: 0.0290 - val_acc: 0.9924\n",
      "Epoch 39/50\n",
      " - 37s - loss: 0.0104 - acc: 0.9963 - val_loss: 0.0374 - val_acc: 0.9920\n",
      "Epoch 40/50\n",
      " - 37s - loss: 0.0107 - acc: 0.9966 - val_loss: 0.0309 - val_acc: 0.9929\n",
      "Epoch 41/50\n",
      " - 37s - loss: 0.0116 - acc: 0.9964 - val_loss: 0.0328 - val_acc: 0.9919\n",
      "Epoch 42/50\n",
      " - 37s - loss: 0.0113 - acc: 0.9966 - val_loss: 0.0300 - val_acc: 0.9919\n",
      "Epoch 43/50\n",
      " - 37s - loss: 0.0113 - acc: 0.9964 - val_loss: 0.0322 - val_acc: 0.9921\n",
      "Epoch 44/50\n",
      " - 38s - loss: 0.0117 - acc: 0.9964 - val_loss: 0.0300 - val_acc: 0.9923\n",
      "Epoch 45/50\n",
      " - 37s - loss: 0.0106 - acc: 0.9969 - val_loss: 0.0288 - val_acc: 0.9933\n",
      "Epoch 46/50\n",
      " - 37s - loss: 0.0096 - acc: 0.9967 - val_loss: 0.0354 - val_acc: 0.9913\n",
      "Epoch 47/50\n",
      " - 37s - loss: 0.0100 - acc: 0.9969 - val_loss: 0.0289 - val_acc: 0.9923\n",
      "Epoch 48/50\n",
      " - 37s - loss: 0.0105 - acc: 0.9968 - val_loss: 0.0352 - val_acc: 0.9919\n",
      "Epoch 49/50\n",
      " - 37s - loss: 0.0093 - acc: 0.9970 - val_loss: 0.0290 - val_acc: 0.9918\n",
      "Epoch 50/50\n",
      " - 37s - loss: 0.0119 - acc: 0.9963 - val_loss: 0.0313 - val_acc: 0.9915\n"
     ]
    },
    {
     "data": {
      "text/plain": [
       "<keras.callbacks.History at 0x7f8e0a84b908>"
      ]
     },
     "execution_count": 16,
     "metadata": {},
     "output_type": "execute_result"
    }
   ],
   "source": [
    "model.fit(X_train, y_train, validation_data=(X_test, y_test),\n",
    "          epochs=50, batch_size=200, verbose=2)"
   ]
  },
  {
   "cell_type": "markdown",
   "metadata": {},
   "source": [
    "# Paso 5 : Evaluacion de nuestro modelo"
   ]
  },
  {
   "cell_type": "code",
   "execution_count": 17,
   "metadata": {},
   "outputs": [
    {
     "name": "stdout",
     "output_type": "stream",
     "text": [
      "Test loss: 0.03133479186877594\n",
      "Test accuracy: 0.9915079365079366\n"
     ]
    }
   ],
   "source": [
    "score = model.evaluate(X_test, y_test, verbose=0)\n",
    "print('Test loss:', score[0])\n",
    "print('Test accuracy:', score[1])"
   ]
  },
  {
   "cell_type": "markdown",
   "metadata": {},
   "source": [
    "# Paso 6 : Prediccion de nuestro modelo"
   ]
  },
  {
   "cell_type": "code",
   "execution_count": 18,
   "metadata": {},
   "outputs": [],
   "source": [
    "test=test/255"
   ]
  },
  {
   "cell_type": "code",
   "execution_count": 19,
   "metadata": {},
   "outputs": [],
   "source": [
    "test=test.values"
   ]
  },
  {
   "cell_type": "code",
   "execution_count": 20,
   "metadata": {},
   "outputs": [
    {
     "data": {
      "text/plain": [
       "28000"
      ]
     },
     "execution_count": 20,
     "metadata": {},
     "output_type": "execute_result"
    }
   ],
   "source": [
    "test.shape[0]"
   ]
  },
  {
   "cell_type": "code",
   "execution_count": 21,
   "metadata": {},
   "outputs": [],
   "source": [
    "test = test.reshape(test.shape[0], 28, 28, 1).astype('float32')"
   ]
  },
  {
   "cell_type": "code",
   "execution_count": 22,
   "metadata": {},
   "outputs": [
    {
     "data": {
      "text/plain": [
       "(28000, 28, 28, 1)"
      ]
     },
     "execution_count": 22,
     "metadata": {},
     "output_type": "execute_result"
    }
   ],
   "source": [
    "test.shape"
   ]
  },
  {
   "cell_type": "code",
   "execution_count": 23,
   "metadata": {},
   "outputs": [],
   "source": [
    "# Predicción de nuestro modelo\n",
    "Y_pred = model.predict(test)"
   ]
  },
  {
   "cell_type": "code",
   "execution_count": 24,
   "metadata": {},
   "outputs": [
    {
     "data": {
      "text/plain": [
       "28000"
      ]
     },
     "execution_count": 24,
     "metadata": {},
     "output_type": "execute_result"
    }
   ],
   "source": [
    "Y_pred.shape[0] "
   ]
  },
  {
   "cell_type": "markdown",
   "metadata": {},
   "source": [
    "**NOTA:** Como tenemos un vector de salida con 10 columnas basta con encontrar el valor maximo de cada columna que correspondera a la imagen detectada ."
   ]
  },
  {
   "cell_type": "code",
   "execution_count": 25,
   "metadata": {},
   "outputs": [
    {
     "data": {
      "text/plain": [
       "7"
      ]
     },
     "execution_count": 25,
     "metadata": {},
     "output_type": "execute_result"
    }
   ],
   "source": [
    "np.argmax(Y_pred[5]) # Argumento maximo del vector de salida--Respuesta del modelo"
   ]
  },
  {
   "cell_type": "markdown",
   "metadata": {},
   "source": [
    "# Creación del vector con las etiquetas de salida"
   ]
  },
  {
   "cell_type": "code",
   "execution_count": 26,
   "metadata": {},
   "outputs": [],
   "source": [
    "y_label=[]\n",
    "for i in range(Y_pred.shape[0]):\n",
    "    y_label.append(np.argmax(Y_pred[i]))"
   ]
  },
  {
   "cell_type": "code",
   "execution_count": 27,
   "metadata": {},
   "outputs": [],
   "source": [
    "df_exam=pd.read_csv('sample_submission.csv')"
   ]
  },
  {
   "cell_type": "code",
   "execution_count": 28,
   "metadata": {},
   "outputs": [
    {
     "data": {
      "text/html": [
       "<div>\n",
       "<style scoped>\n",
       "    .dataframe tbody tr th:only-of-type {\n",
       "        vertical-align: middle;\n",
       "    }\n",
       "\n",
       "    .dataframe tbody tr th {\n",
       "        vertical-align: top;\n",
       "    }\n",
       "\n",
       "    .dataframe thead th {\n",
       "        text-align: right;\n",
       "    }\n",
       "</style>\n",
       "<table border=\"1\" class=\"dataframe\">\n",
       "  <thead>\n",
       "    <tr style=\"text-align: right;\">\n",
       "      <th></th>\n",
       "      <th>ImageId</th>\n",
       "      <th>Label</th>\n",
       "    </tr>\n",
       "  </thead>\n",
       "  <tbody>\n",
       "    <tr>\n",
       "      <th>0</th>\n",
       "      <td>1</td>\n",
       "      <td>0</td>\n",
       "    </tr>\n",
       "    <tr>\n",
       "      <th>1</th>\n",
       "      <td>2</td>\n",
       "      <td>0</td>\n",
       "    </tr>\n",
       "    <tr>\n",
       "      <th>2</th>\n",
       "      <td>3</td>\n",
       "      <td>0</td>\n",
       "    </tr>\n",
       "    <tr>\n",
       "      <th>3</th>\n",
       "      <td>4</td>\n",
       "      <td>0</td>\n",
       "    </tr>\n",
       "    <tr>\n",
       "      <th>4</th>\n",
       "      <td>5</td>\n",
       "      <td>0</td>\n",
       "    </tr>\n",
       "  </tbody>\n",
       "</table>\n",
       "</div>"
      ],
      "text/plain": [
       "   ImageId  Label\n",
       "0        1      0\n",
       "1        2      0\n",
       "2        3      0\n",
       "3        4      0\n",
       "4        5      0"
      ]
     },
     "execution_count": 28,
     "metadata": {},
     "output_type": "execute_result"
    }
   ],
   "source": [
    "df_exam.head() # Plantilla de envio a Kaggle"
   ]
  },
  {
   "cell_type": "markdown",
   "metadata": {},
   "source": [
    "# Creación del archivo de envio a Kaggle"
   ]
  },
  {
   "cell_type": "code",
   "execution_count": 29,
   "metadata": {},
   "outputs": [],
   "source": [
    "final_pred = pd.DataFrame({\"ImageId\": df_exam[\"ImageId\"], \n",
    "                       \"Label\" : y_label})"
   ]
  },
  {
   "cell_type": "code",
   "execution_count": 30,
   "metadata": {},
   "outputs": [
    {
     "data": {
      "text/html": [
       "<div>\n",
       "<style scoped>\n",
       "    .dataframe tbody tr th:only-of-type {\n",
       "        vertical-align: middle;\n",
       "    }\n",
       "\n",
       "    .dataframe tbody tr th {\n",
       "        vertical-align: top;\n",
       "    }\n",
       "\n",
       "    .dataframe thead th {\n",
       "        text-align: right;\n",
       "    }\n",
       "</style>\n",
       "<table border=\"1\" class=\"dataframe\">\n",
       "  <thead>\n",
       "    <tr style=\"text-align: right;\">\n",
       "      <th></th>\n",
       "      <th>ImageId</th>\n",
       "      <th>Label</th>\n",
       "    </tr>\n",
       "  </thead>\n",
       "  <tbody>\n",
       "    <tr>\n",
       "      <th>0</th>\n",
       "      <td>1</td>\n",
       "      <td>2</td>\n",
       "    </tr>\n",
       "    <tr>\n",
       "      <th>1</th>\n",
       "      <td>2</td>\n",
       "      <td>0</td>\n",
       "    </tr>\n",
       "    <tr>\n",
       "      <th>2</th>\n",
       "      <td>3</td>\n",
       "      <td>9</td>\n",
       "    </tr>\n",
       "    <tr>\n",
       "      <th>3</th>\n",
       "      <td>4</td>\n",
       "      <td>9</td>\n",
       "    </tr>\n",
       "    <tr>\n",
       "      <th>4</th>\n",
       "      <td>5</td>\n",
       "      <td>3</td>\n",
       "    </tr>\n",
       "  </tbody>\n",
       "</table>\n",
       "</div>"
      ],
      "text/plain": [
       "   ImageId  Label\n",
       "0        1      2\n",
       "1        2      0\n",
       "2        3      9\n",
       "3        4      9\n",
       "4        5      3"
      ]
     },
     "execution_count": 30,
     "metadata": {},
     "output_type": "execute_result"
    }
   ],
   "source": [
    "final_pred.head()"
   ]
  },
  {
   "cell_type": "code",
   "execution_count": 31,
   "metadata": {},
   "outputs": [],
   "source": [
    "final_pred.to_csv('final_predict_08_035_adam.csv', index=False)"
   ]
  },
  {
   "cell_type": "markdown",
   "metadata": {},
   "source": [
    "# FINAL ......."
   ]
  },
  {
   "cell_type": "code",
   "execution_count": null,
   "metadata": {},
   "outputs": [],
   "source": []
  }
 ],
 "metadata": {
  "kernelspec": {
   "display_name": "Python 3",
   "language": "python",
   "name": "python3"
  },
  "language_info": {
   "codemirror_mode": {
    "name": "ipython",
    "version": 3
   },
   "file_extension": ".py",
   "mimetype": "text/x-python",
   "name": "python",
   "nbconvert_exporter": "python",
   "pygments_lexer": "ipython3",
   "version": "3.6.7"
  }
 },
 "nbformat": 4,
 "nbformat_minor": 2
}
